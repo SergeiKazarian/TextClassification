{
  "nbformat": 4,
  "nbformat_minor": 0,
  "metadata": {
    "kernelspec": {
      "display_name": "Python 3",
      "language": "python",
      "name": "python3"
    },
    "language_info": {
      "codemirror_mode": {
        "name": "ipython",
        "version": 3
      },
      "file_extension": ".py",
      "mimetype": "text/x-python",
      "name": "python",
      "nbconvert_exporter": "python",
      "pygments_lexer": "ipython3",
      "version": "3.7.9"
    },
    "colab": {
      "name": "Копия блокнота \"hw06.ipynb\"",
      "provenance": [],
      "collapsed_sections": []
    }
  },
  "cells": [
    {
      "cell_type": "markdown",
      "metadata": {
        "id": "vFpetX-raWLM"
      },
      "source": [
        "Предстоит построить классификатор текстов"
      ]
    },
    {
      "cell_type": "code",
      "metadata": {
        "id": "I6ZE__1fc6zR",
        "colab": {
          "base_uri": "https://localhost:8080/"
        },
        "outputId": "7b3dc906-3be3-47b9-ba25-0f2e3f77737f"
      },
      "source": [
        "from google.colab import drive\n",
        "drive.mount('/content/drive')"
      ],
      "execution_count": null,
      "outputs": [
        {
          "output_type": "stream",
          "text": [
            "Mounted at /content/drive\n"
          ],
          "name": "stdout"
        }
      ]
    },
    {
      "cell_type": "markdown",
      "metadata": {
        "id": "DfL_Zs8AaWLO"
      },
      "source": [
        "Мы будем работать с датасетом объявлений Avito. Нам предстоит по заголовку и тексту объявления предсказывать категорию объявления."
      ]
    },
    {
      "cell_type": "code",
      "metadata": {
        "id": "CbdXTZ2gaWLO",
        "colab": {
          "base_uri": "https://localhost:8080/"
        },
        "outputId": "a0ab6801-1aaf-4e27-af25-4bc80df22823"
      },
      "source": [
        "import pandas as pd\n",
        "import numpy as np\n",
        "from matplotlib import pyplot as plt\n",
        "import seaborn as sns\n",
        "from scipy import stats\n",
        "%pylab inline"
      ],
      "execution_count": null,
      "outputs": [
        {
          "output_type": "stream",
          "text": [
            "Populating the interactive namespace from numpy and matplotlib\n"
          ],
          "name": "stdout"
        }
      ]
    },
    {
      "cell_type": "code",
      "metadata": {
        "id": "zmbBjCrjaWLO"
      },
      "source": [
        "def reading_info():\n",
        "  train = pd.read_csv('drive/MyDrive/train.csv')\n",
        "  test = pd.read_csv('drive/MyDrive/test.csv')\n",
        "  train = train.sample(n = 100000, random_state = 17)\n",
        "  return train, test\n",
        "\n",
        "\n",
        "train, test = reading_info()"
      ],
      "execution_count": null,
      "outputs": []
    },
    {
      "cell_type": "code",
      "metadata": {
        "id": "nqGJbRGPaWLP",
        "colab": {
          "base_uri": "https://localhost:8080/",
          "height": 283
        },
        "outputId": "027684e8-13e5-43fc-d74f-18a43c3bed5a"
      },
      "source": [
        "train.head()"
      ],
      "execution_count": null,
      "outputs": [
        {
          "output_type": "execute_result",
          "data": {
            "text/html": [
              "<div>\n",
              "<style scoped>\n",
              "    .dataframe tbody tr th:only-of-type {\n",
              "        vertical-align: middle;\n",
              "    }\n",
              "\n",
              "    .dataframe tbody tr th {\n",
              "        vertical-align: top;\n",
              "    }\n",
              "\n",
              "    .dataframe thead th {\n",
              "        text-align: right;\n",
              "    }\n",
              "</style>\n",
              "<table border=\"1\" class=\"dataframe\">\n",
              "  <thead>\n",
              "    <tr style=\"text-align: right;\">\n",
              "      <th></th>\n",
              "      <th>title</th>\n",
              "      <th>description</th>\n",
              "      <th>Category_name</th>\n",
              "      <th>Category</th>\n",
              "    </tr>\n",
              "  </thead>\n",
              "  <tbody>\n",
              "    <tr>\n",
              "      <th>56473</th>\n",
              "      <td>Брызговики финские Sukkela на любую машину</td>\n",
              "      <td>Отличные новые брызговики из Финляндии. /\\n/\\n...</td>\n",
              "      <td>Запчасти и аксессуары</td>\n",
              "      <td>10</td>\n",
              "    </tr>\n",
              "    <tr>\n",
              "      <th>2972515</th>\n",
              "      <td>Б у кпп механика DLP DNZ DRZ CZB DUS DUU DUV 02K</td>\n",
              "      <td>Контрактная механическая коробка передач б у К...</td>\n",
              "      <td>Запчасти и аксессуары</td>\n",
              "      <td>10</td>\n",
              "    </tr>\n",
              "    <tr>\n",
              "      <th>2039205</th>\n",
              "      <td>Много сумок</td>\n",
              "      <td>1 фото:/\\nСумка вместительная Luis Vuitton, ma...</td>\n",
              "      <td>Одежда, обувь, аксессуары</td>\n",
              "      <td>27</td>\n",
              "    </tr>\n",
              "    <tr>\n",
              "      <th>3739784</th>\n",
              "      <td>Зимний комбинезон</td>\n",
              "      <td>Зимний комбинезон,без дырочек и затертостей,по...</td>\n",
              "      <td>Детская одежда и обувь</td>\n",
              "      <td>29</td>\n",
              "    </tr>\n",
              "    <tr>\n",
              "      <th>1941972</th>\n",
              "      <td>Картофель</td>\n",
              "      <td>Продаю картофель местный, ведро - 200 руб.</td>\n",
              "      <td>Продукты питания</td>\n",
              "      <td>82</td>\n",
              "    </tr>\n",
              "  </tbody>\n",
              "</table>\n",
              "</div>"
            ],
            "text/plain": [
              "                                                    title  ... Category\n",
              "56473          Брызговики финские Sukkela на любую машину  ...       10\n",
              "2972515  Б у кпп механика DLP DNZ DRZ CZB DUS DUU DUV 02K  ...       10\n",
              "2039205                                       Много сумок  ...       27\n",
              "3739784                                 Зимний комбинезон  ...       29\n",
              "1941972                                         Картофель  ...       82\n",
              "\n",
              "[5 rows x 4 columns]"
            ]
          },
          "metadata": {
            "tags": []
          },
          "execution_count": 23
        }
      ]
    },
    {
      "cell_type": "code",
      "metadata": {
        "id": "NJk9ujzFaWLQ",
        "colab": {
          "base_uri": "https://localhost:8080/"
        },
        "outputId": "19015366-35c2-4662-9c8e-058e8efcebf3"
      },
      "source": [
        "test['description'].head()"
      ],
      "execution_count": null,
      "outputs": [
        {
          "output_type": "execute_result",
          "data": {
            "text/plain": [
              "0    Мастерка фирмы форвард. Белого цвета. В идеаль...\n",
              "1    Продаю зимние сапоги, в хорошем состоянии, все...\n",
              "2    В комплект Atis AMD-2MIR-8kit входит: /\\n1. Ку...\n",
              "3                                         Запчасти GLE\n",
              "4    Состояние 5+/\\nПродаю потому что не нужен/\\n18...\n",
              "Name: description, dtype: object"
            ]
          },
          "metadata": {
            "tags": []
          },
          "execution_count": 24
        }
      ]
    },
    {
      "cell_type": "code",
      "metadata": {
        "id": "HNHc7NC8aWLQ",
        "colab": {
          "base_uri": "https://localhost:8080/"
        },
        "outputId": "4d2c509c-631d-486c-8c1a-28e85ad4ce3a"
      },
      "source": [
        "train.isna().sum()"
      ],
      "execution_count": null,
      "outputs": [
        {
          "output_type": "execute_result",
          "data": {
            "text/plain": [
              "title            0\n",
              "description      0\n",
              "Category_name    0\n",
              "Category         0\n",
              "dtype: int64"
            ]
          },
          "metadata": {
            "tags": []
          },
          "execution_count": 25
        }
      ]
    },
    {
      "cell_type": "code",
      "metadata": {
        "id": "UvLrwPDpaWLR",
        "colab": {
          "base_uri": "https://localhost:8080/"
        },
        "outputId": "0bcf83e2-e352-4968-8d20-ee8f8d48a4b7"
      },
      "source": [
        "test.isna().sum()"
      ],
      "execution_count": null,
      "outputs": [
        {
          "output_type": "execute_result",
          "data": {
            "text/plain": [
              "title          0\n",
              "description    1\n",
              "itemid         0\n",
              "dtype: int64"
            ]
          },
          "metadata": {
            "tags": []
          },
          "execution_count": 26
        }
      ]
    },
    {
      "cell_type": "code",
      "metadata": {
        "id": "WzD9J1EQy4fh"
      },
      "source": [
        "train = train.fillna(\"\")\n",
        "test = test.fillna(\"\")"
      ],
      "execution_count": null,
      "outputs": []
    },
    {
      "cell_type": "code",
      "metadata": {
        "id": "nF5WmTFT0yG0"
      },
      "source": [
        "train['text_info']=train['title']+' '+train['description']"
      ],
      "execution_count": null,
      "outputs": []
    },
    {
      "cell_type": "code",
      "metadata": {
        "id": "Y9OCHCT248Cz"
      },
      "source": [
        "test['text_info'] = test['title']+' '+test['description']"
      ],
      "execution_count": null,
      "outputs": []
    },
    {
      "cell_type": "code",
      "metadata": {
        "id": "mew7PIwvaWLS",
        "colab": {
          "base_uri": "https://localhost:8080/"
        },
        "outputId": "8e2edebe-cbfe-4faa-df23-61d458a6fee8"
      },
      "source": [
        "len(train.groupby('Category')['title'].count())"
      ],
      "execution_count": null,
      "outputs": [
        {
          "output_type": "execute_result",
          "data": {
            "text/plain": [
              "50"
            ]
          },
          "metadata": {
            "tags": []
          },
          "execution_count": 30
        }
      ]
    },
    {
      "cell_type": "markdown",
      "metadata": {
        "id": "zVvfyRi05z6M"
      },
      "source": [
        "1. итого 50 уникальных классов"
      ]
    },
    {
      "cell_type": "code",
      "metadata": {
        "id": "RclK2la354qV"
      },
      "source": [
        "cat_bar = train.groupby(['Category'], as_index=False)['title'].size()\n",
        "overall = cat_bar['size'].sum()\n",
        "cat_bar['frequency'] = cat_bar['size'] / overall"
      ],
      "execution_count": null,
      "outputs": []
    },
    {
      "cell_type": "code",
      "metadata": {
        "id": "6YlJGMDt7rhb",
        "colab": {
          "base_uri": "https://localhost:8080/",
          "height": 501
        },
        "outputId": "5d8fc80b-ec4c-4e15-982f-deb352434c43"
      },
      "source": [
        "fig = plt.figure(figsize=(20, 10))\n",
        "sbarplot = sns.barplot(x='Category', y='frequency', data=cat_bar, palette='summer')\n",
        "_ = sbarplot.set_xticklabels(sbarplot.get_xticklabels(), \n",
        "                          rotation=90, \n",
        "                          horizontalalignment='right')"
      ],
      "execution_count": null,
      "outputs": [
        {
          "output_type": "display_data",
          "data": {
            "image/png": "[encoded data removed]",
            "text/plain": [
              "<Figure size 1440x720 with 1 Axes>"
            ]
          },
          "metadata": {
            "tags": [],
            "needs_background": "light"
          }
        }
      ]
    },
    {
      "cell_type": "markdown",
      "metadata": {
        "id": "8KKhpRH-Ed98"
      },
      "source": [
        "Дисбаланс классов между самым часто встречающимся классом и самым редким, видно,  достаточно большой. Но в целом стандартное отклонение не очень большое - 4%, так как есть довльно большое число классов примерно с одинаковой частотой."
      ]
    },
    {
      "cell_type": "code",
      "metadata": {
        "id": "ItawGp8qaWLS"
      },
      "source": [
        "from sklearn.feature_extraction.text import CountVectorizer"
      ],
      "execution_count": null,
      "outputs": []
    },
    {
      "cell_type": "code",
      "metadata": {
        "colab": {
          "base_uri": "https://localhost:8080/",
          "height": 411
        },
        "id": "YoqQ4_UHIzJ5",
        "outputId": "70bc2a2a-ca98-4da7-e4bb-bcefd98489db"
      },
      "source": [
        "train = train[['text_info', 'Category']]\n",
        "train"
      ],
      "execution_count": null,
      "outputs": [
        {
          "output_type": "execute_result",
          "data": {
            "text/html": [
              "<div>\n",
              "<style scoped>\n",
              "    .dataframe tbody tr th:only-of-type {\n",
              "        vertical-align: middle;\n",
              "    }\n",
              "\n",
              "    .dataframe tbody tr th {\n",
              "        vertical-align: top;\n",
              "    }\n",
              "\n",
              "    .dataframe thead th {\n",
              "        text-align: right;\n",
              "    }\n",
              "</style>\n",
              "<table border=\"1\" class=\"dataframe\">\n",
              "  <thead>\n",
              "    <tr style=\"text-align: right;\">\n",
              "      <th></th>\n",
              "      <th>text_info</th>\n",
              "      <th>Category</th>\n",
              "    </tr>\n",
              "  </thead>\n",
              "  <tbody>\n",
              "    <tr>\n",
              "      <th>56473</th>\n",
              "      <td>Брызговики финские Sukkela на любую машину Отл...</td>\n",
              "      <td>10</td>\n",
              "    </tr>\n",
              "    <tr>\n",
              "      <th>2972515</th>\n",
              "      <td>Б у кпп механика DLP DNZ DRZ CZB DUS DUU DUV 0...</td>\n",
              "      <td>10</td>\n",
              "    </tr>\n",
              "    <tr>\n",
              "      <th>2039205</th>\n",
              "      <td>Много сумок 1 фото:/\\nСумка вместительная Luis...</td>\n",
              "      <td>27</td>\n",
              "    </tr>\n",
              "    <tr>\n",
              "      <th>3739784</th>\n",
              "      <td>Зимний комбинезон Зимний комбинезон,без дыроче...</td>\n",
              "      <td>29</td>\n",
              "    </tr>\n",
              "    <tr>\n",
              "      <th>1941972</th>\n",
              "      <td>Картофель Продаю картофель местный, ведро - 20...</td>\n",
              "      <td>82</td>\n",
              "    </tr>\n",
              "    <tr>\n",
              "      <th>...</th>\n",
              "      <td>...</td>\n",
              "      <td>...</td>\n",
              "    </tr>\n",
              "    <tr>\n",
              "      <th>4136736</th>\n",
              "      <td>Пакетом женские вещи р.44-46 Большой пакет хор...</td>\n",
              "      <td>27</td>\n",
              "    </tr>\n",
              "    <tr>\n",
              "      <th>2076437</th>\n",
              "      <td>3-к квартира, 61 м², 1/2 эт. Срочно продаю 3х ...</td>\n",
              "      <td>24</td>\n",
              "    </tr>\n",
              "    <tr>\n",
              "      <th>1541098</th>\n",
              "      <td>Бамперы газ-21 Передний и задний бамперы ГАЗ-2...</td>\n",
              "      <td>10</td>\n",
              "    </tr>\n",
              "    <tr>\n",
              "      <th>1271554</th>\n",
              "      <td>Плата видео захвата A101602-A5 В отличном сост...</td>\n",
              "      <td>101</td>\n",
              "    </tr>\n",
              "    <tr>\n",
              "      <th>1124205</th>\n",
              "      <td>Новый плащ Продаю новый плащ, размер 46-48 /\\n...</td>\n",
              "      <td>27</td>\n",
              "    </tr>\n",
              "  </tbody>\n",
              "</table>\n",
              "<p>100000 rows × 2 columns</p>\n",
              "</div>"
            ],
            "text/plain": [
              "                                                 text_info  Category\n",
              "56473    Брызговики финские Sukkela на любую машину Отл...        10\n",
              "2972515  Б у кпп механика DLP DNZ DRZ CZB DUS DUU DUV 0...        10\n",
              "2039205  Много сумок 1 фото:/\\nСумка вместительная Luis...        27\n",
              "3739784  Зимний комбинезон Зимний комбинезон,без дыроче...        29\n",
              "1941972  Картофель Продаю картофель местный, ведро - 20...        82\n",
              "...                                                    ...       ...\n",
              "4136736  Пакетом женские вещи р.44-46 Большой пакет хор...        27\n",
              "2076437  3-к квартира, 61 м², 1/2 эт. Срочно продаю 3х ...        24\n",
              "1541098  Бамперы газ-21 Передний и задний бамперы ГАЗ-2...        10\n",
              "1271554  Плата видео захвата A101602-A5 В отличном сост...       101\n",
              "1124205  Новый плащ Продаю новый плащ, размер 46-48 /\\n...        27\n",
              "\n",
              "[100000 rows x 2 columns]"
            ]
          },
          "metadata": {
            "tags": []
          },
          "execution_count": 37
        }
      ]
    },
    {
      "cell_type": "code",
      "metadata": {
        "id": "AgfBO6y8Unrm"
      },
      "source": [
        "texts = train['text_info'].values"
      ],
      "execution_count": null,
      "outputs": []
    },
    {
      "cell_type": "code",
      "metadata": {
        "id": "c_UAmWHTWTRl"
      },
      "source": [
        "vec = CountVectorizer(token_pattern='\\S+')\n",
        "bow = vec.fit_transform(texts)"
      ],
      "execution_count": null,
      "outputs": []
    },
    {
      "cell_type": "markdown",
      "metadata": {
        "id": "k4qW7XDBXttv"
      },
      "source": [
        "матрица получилась размера 100000x524841 "
      ]
    },
    {
      "cell_type": "code",
      "metadata": {
        "id": "ahHDvgizb09H"
      },
      "source": [
        "import re"
      ],
      "execution_count": null,
      "outputs": []
    },
    {
      "cell_type": "code",
      "metadata": {
        "id": "Bg1_kGlDZ-l1"
      },
      "source": [
        "keys = ' '.join(vec.vocabulary_.keys())\n",
        "prog= re.compile('[ ]+[0-9]+[А-Яа-яёa-zA-Z\\-]*')\n",
        "num_words = prog.findall(keys)"
      ],
      "execution_count": null,
      "outputs": []
    },
    {
      "cell_type": "code",
      "metadata": {
        "colab": {
          "base_uri": "https://localhost:8080/"
        },
        "id": "ZA3FlUvJffPw",
        "outputId": "4f3a2dd6-3ae0-49a5-c0ca-88e526ac53bc"
      },
      "source": [
        "prog2 = re.compile('[ ]+[\\!\\\"\\#\\$\\%\\&\\;\\(\\)\\*\\+\\,\\-\\.\\/\\:\\;\\<\\=\\>\\?\\@\\[\\\\\\\\\\]\\^\\_\\`\\{\\|\\}\\~]+[0-9А-Яа-яёa-zA-Z\\-]*')\n",
        "punct_words = prog2.findall(keys)\n",
        "punct_words[350:360]"
      ],
      "execution_count": null,
      "outputs": [
        {
          "output_type": "execute_result",
          "data": {
            "text/plain": [
              "[' (центр',\n",
              " ' (очень',\n",
              " ' (спина',\n",
              " ' ,на',\n",
              " ' ,шикарные',\n",
              " ' ).',\n",
              " ' (12-18мес',\n",
              " ' (пугачева',\n",
              " ' ~~~~~~~~~~~~~~~~~~~~~~~~~~~~~~~~~~~~~~~~~~~~~/',\n",
              " ' ,ребёнок']"
            ]
          },
          "metadata": {
            "tags": []
          },
          "execution_count": 47
        }
      ]
    },
    {
      "cell_type": "code",
      "metadata": {
        "id": "HFqcT726aWLT",
        "colab": {
          "base_uri": "https://localhost:8080/"
        },
        "outputId": "1cc23485-1ff2-4932-efca-a0b8b6dc3028"
      },
      "source": [
        "from nltk.tokenize import word_tokenize\n",
        "import nltk\n",
        "from nltk.stem.snowball import SnowballStemmer\n",
        "from string import punctuation\n",
        "from nltk.corpus import stopwords\n",
        "\n",
        "\n",
        "nltk.download('punkt')\n",
        "nltk.download(\"stopwords\")\n",
        "russian_stopwords = stopwords.words('russian')\n",
        "stemmer = SnowballStemmer('russian')\n",
        "\n",
        "\n",
        "def tokenizer(x):\n",
        "  tokens = word_tokenize(x.lower())\n",
        "  tokens = [stemmer.stem(token) for token in tokens if token not in russian_stopwords\\\n",
        "              and token != \" \"\\\n",
        "              and token.isalpha()]\n",
        "  return tokens"
      ],
      "execution_count": null,
      "outputs": [
        {
          "output_type": "stream",
          "text": [
            "[nltk_data] Downloading package punkt to /root/nltk_data...\n",
            "[nltk_data]   Package punkt is already up-to-date!\n",
            "[nltk_data] Downloading package stopwords to /root/nltk_data...\n",
            "[nltk_data]   Package stopwords is already up-to-date!\n"
          ],
          "name": "stdout"
        }
      ]
    },
    {
      "cell_type": "code",
      "metadata": {
        "id": "iOvJ_4U8aWLU"
      },
      "source": [
        "vec_CV = CountVectorizer(tokenizer=tokenizer)\n",
        "bow = vec_CV.fit_transform(texts)"
      ],
      "execution_count": null,
      "outputs": []
    },
    {
      "cell_type": "code",
      "metadata": {
        "id": "cFt3xgChb7LZ"
      },
      "source": [
        "from sklearn.model_selection import train_test_split\n",
        "from sklearn.metrics import accuracy_score"
      ],
      "execution_count": null,
      "outputs": []
    },
    {
      "cell_type": "code",
      "metadata": {
        "id": "5XaFzNCucBHt"
      },
      "source": [
        "x_train, x_test, y_train, y_test = train_test_split(bow, train['Category'], random_state=17, train_size=0.8 )"
      ],
      "execution_count": null,
      "outputs": []
    },
    {
      "cell_type": "code",
      "metadata": {
        "id": "YGbQ6H5-c3Hz"
      },
      "source": [
        "from sklearn.linear_model import SGDClassifier\n",
        "clf0 = SGDClassifier()\n",
        "clf0.fit(x_train, y_train)\n",
        "pred = clf0.predict(x_test)"
      ],
      "execution_count": null,
      "outputs": []
    },
    {
      "cell_type": "code",
      "metadata": {
        "colab": {
          "base_uri": "https://localhost:8080/"
        },
        "id": "NTAe56lFhnrq",
        "outputId": "744dbef0-9334-4e54-c5e5-dd600b269704"
      },
      "source": [
        "print(f'accuracy_score: {accuracy_score(y_test, pred)}')"
      ],
      "execution_count": null,
      "outputs": [
        {
          "output_type": "stream",
          "text": [
            "accuracy_score: 0.82615\n"
          ],
          "name": "stdout"
        }
      ]
    },
    {
      "cell_type": "markdown",
      "metadata": {
        "id": "h6EZPzkPaWLV"
      },
      "source": [
        "теперь сделаем предсказания по всей тестовой выборке"
      ]
    },
    {
      "cell_type": "code",
      "metadata": {
        "id": "smkVQTsyT-4c"
      },
      "source": [
        "text = test['text_info'].values"
      ],
      "execution_count": null,
      "outputs": []
    },
    {
      "cell_type": "code",
      "metadata": {
        "id": "Yx8GFUqcDcG0"
      },
      "source": [
        "bow = vec_CV.transform(text)\n",
        "pred = clf0.predict(bow)"
      ],
      "execution_count": null,
      "outputs": []
    },
    {
      "cell_type": "code",
      "metadata": {
        "id": "dr3VE24sOEiI"
      },
      "source": [
        "result = pd.DataFrame()\n",
        "result['Category'] = pred"
      ],
      "execution_count": null,
      "outputs": []
    },
    {
      "cell_type": "code",
      "metadata": {
        "id": "ELsIqE01ONbs"
      },
      "source": [
        "result['Id'] = test['itemid'].values"
      ],
      "execution_count": null,
      "outputs": []
    },
    {
      "cell_type": "code",
      "metadata": {
        "id": "VMJ8fkExRZBE"
      },
      "source": [
        "result.to_csv('dz6.csv', index=False, columns=['Id', 'Category'])"
      ],
      "execution_count": null,
      "outputs": []
    },
    {
      "cell_type": "code",
      "metadata": {
        "id": "qchSqi_g9QLF"
      },
      "source": [
        "#отправил решение на kaggle по авито"
      ],
      "execution_count": null,
      "outputs": []
    }
  ]
}